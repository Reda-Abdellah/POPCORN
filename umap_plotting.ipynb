{
 "cells": [
  {
   "cell_type": "code",
   "execution_count": 1,
   "metadata": {},
   "outputs": [
    {
     "name": "stderr",
     "output_type": "stream",
     "text": [
      "/usr/local/lib/python3.5/dist-packages/h5py/__init__.py:36: FutureWarning: Conversion of the second argument of issubdtype from `float` to `np.floating` is deprecated. In future, it will be treated as `np.float64 == np.dtype(float).type`.\n",
      "  from ._conv import register_converters as _register_converters\n",
      "Using TensorFlow backend.\n",
      "/usr/local/lib/python3.5/dist-packages/tensorflow/python/framework/dtypes.py:523: FutureWarning: Passing (type, 1) or '1type' as a synonym of type is deprecated; in a future version of numpy, it will be understood as (type, (1,)) / '(1,)type'.\n",
      "  _np_qint8 = np.dtype([(\"qint8\", np.int8, 1)])\n",
      "/usr/local/lib/python3.5/dist-packages/tensorflow/python/framework/dtypes.py:524: FutureWarning: Passing (type, 1) or '1type' as a synonym of type is deprecated; in a future version of numpy, it will be understood as (type, (1,)) / '(1,)type'.\n",
      "  _np_quint8 = np.dtype([(\"quint8\", np.uint8, 1)])\n",
      "/usr/local/lib/python3.5/dist-packages/tensorflow/python/framework/dtypes.py:525: FutureWarning: Passing (type, 1) or '1type' as a synonym of type is deprecated; in a future version of numpy, it will be understood as (type, (1,)) / '(1,)type'.\n",
      "  _np_qint16 = np.dtype([(\"qint16\", np.int16, 1)])\n",
      "/usr/local/lib/python3.5/dist-packages/tensorflow/python/framework/dtypes.py:526: FutureWarning: Passing (type, 1) or '1type' as a synonym of type is deprecated; in a future version of numpy, it will be understood as (type, (1,)) / '(1,)type'.\n",
      "  _np_quint16 = np.dtype([(\"quint16\", np.uint16, 1)])\n",
      "/usr/local/lib/python3.5/dist-packages/tensorflow/python/framework/dtypes.py:527: FutureWarning: Passing (type, 1) or '1type' as a synonym of type is deprecated; in a future version of numpy, it will be understood as (type, (1,)) / '(1,)type'.\n",
      "  _np_qint32 = np.dtype([(\"qint32\", np.int32, 1)])\n",
      "/usr/local/lib/python3.5/dist-packages/tensorflow/python/framework/dtypes.py:532: FutureWarning: Passing (type, 1) or '1type' as a synonym of type is deprecated; in a future version of numpy, it will be understood as (type, (1,)) / '(1,)type'.\n",
      "  np_resource = np.dtype([(\"resource\", np.ubyte, 1)])\n"
     ]
    }
   ],
   "source": [
    "import umap\n",
    "from sklearn.datasets import load_digits\n",
    "import os\n",
    "import glob\n",
    "import numpy as np\n",
    "import nibabel as nii\n",
    "import math\n",
    "import operator\n",
    "#import patch_extraction\n",
    "from scipy.ndimage.interpolation import zoom\n",
    "from keras.models import load_model\n",
    "from scipy import ndimage\n",
    "import scipy.io as sio\n",
    "import matplotlib.pyplot as plt\n",
    "import modelos"
   ]
  },
  {
   "cell_type": "code",
   "execution_count": 4,
   "metadata": {
    "collapsed": true
   },
   "outputs": [],
   "source": [
    "model=modelos.load_UNET3D_SLANT27_v2_groupNorm(96,96,96,2,1,24,0.5,final_act='sigmoid')\n",
    "model.compile(optimizer='adam', loss='mse')"
   ]
  },
  {
   "cell_type": "code",
   "execution_count": 44,
   "metadata": {
    "collapsed": true
   },
   "outputs": [],
   "source": [
    "listaT1 = sorted(glob.glob(\"../lib/volbrain_qc/n_mfmni*t1*.nii*\"))\n",
    "listaFLAIR = sorted(glob.glob(\"../lib/volbrain_qc/n_mfmni*flair*.nii*\"))\n",
    "#listaLAB = sorted(glob.glob(\"../lib/volbrain_qc/DLB*lesion*.nii*\"))\n",
    "listaMASK = sorted(glob.glob(\"../lib/volbrain_qc/mask*.nii*\"))"
   ]
  },
  {
   "cell_type": "code",
   "execution_count": 45,
   "metadata": {
    "collapsed": true
   },
   "outputs": [],
   "source": [
    "listaT1_isbi = sorted(glob.glob(\"../lib/isbi_final_train_preprocessed/training*mprage*.nii*\"))\n",
    "listaFLAIR_isbi = sorted(glob.glob(\"../lib/isbi_final_train_preprocessed/training*flair*.nii*\"))"
   ]
  },
  {
   "cell_type": "code",
   "execution_count": 7,
   "metadata": {
    "collapsed": true
   },
   "outputs": [],
   "source": [
    "#listaT1_isbi"
   ]
  },
  {
   "cell_type": "code",
   "execution_count": 8,
   "metadata": {
    "collapsed": true
   },
   "outputs": [],
   "source": [
    "import statsmodels.api as sm\n",
    "from scipy.signal import argrelextrema\n",
    "from collections import OrderedDict, defaultdict\n",
    "from skimage import measure\n",
    "from scipy.stats import pearsonr\n",
    "\n",
    "def normalize_image(vol, contrast):\n",
    "    # copied from FLEXCONN\n",
    "    # slightly changed to fit our implementation\n",
    "    temp = vol[np.nonzero(vol)].astype(float)\n",
    "    q = np.percentile(temp, 99)\n",
    "    temp = temp[temp <= q]\n",
    "    temp = temp.reshape(-1, 1)\n",
    "    bw = q / 80\n",
    "    # print(\"99th quantile is %.4f, gridsize = %.4f\" % (q, bw))\n",
    "\n",
    "    kde = sm.nonparametric.KDEUnivariate(temp)\n",
    "\n",
    "    kde.fit(kernel='gau', bw=bw, gridsize=80, fft=True)\n",
    "    x_mat = 100.0 * kde.density\n",
    "    y_mat = kde.support\n",
    "\n",
    "    indx = argrelextrema(x_mat, np.greater)\n",
    "    indx = np.asarray(indx, dtype=int)\n",
    "    heights = x_mat[indx][0]\n",
    "    peaks = y_mat[indx][0]\n",
    "    peak = 0.00\n",
    "    # print(\"%d peaks found.\" % (len(peaks)))\n",
    "\n",
    "    # norm_vol = vol\n",
    "    if contrast.lower() in [\"t1\", \"mprage\"]:\n",
    "        peak = peaks[-1]\n",
    "        # print(\"Peak found at %.4f for %s\" % (peak, contrast))\n",
    "        # norm_vol = vol/peak\n",
    "        # norm_vol[norm_vol > 1.25] = 1.25\n",
    "        # norm_vol = norm_vol/1.25\n",
    "    elif contrast.lower() in ['t2', 'pd', 'flair', 'fl']:\n",
    "        peak_height = np.amax(heights)\n",
    "        idx = np.where(heights == peak_height)\n",
    "        peak = peaks[idx]\n",
    "        # print(\"Peak found at %.4f for %s\" % (peak, contrast))\n",
    "        # norm_vol = vol / peak\n",
    "        # norm_vol[norm_vol > 3.5] = 3.5\n",
    "        # norm_vol = norm_vol / 3.5\n",
    "    else:\n",
    "        print(\"Contrast must be either t1,t2,pd, or flair. You entered %s. Returning 0.\" % contrast)\n",
    "\n",
    "    # return peak, norm_vol\n",
    "    return peak\n",
    "\n",
    "def load_modalities(T1_name,FLAIR_name,MASK_name=None):\n",
    "    T1_img = nii.load(T1_name)\n",
    "    T1=T1_img.get_data()\n",
    "    T1=T1.astype('float32')\n",
    "    FLAIR_img = nii.load(FLAIR_name)\n",
    "    FLAIR=FLAIR_img.get_data()\n",
    "    FLAIR=FLAIR.astype('float32')\n",
    "    if(not MASK_name==None):\n",
    "        MASK_img = nii.load(MASK_name)\n",
    "        MASK = MASK_img.get_data()\n",
    "        MASK=MASK.astype('int')\n",
    "        T1=T1*MASK\n",
    "        FLAIR=FLAIR*MASK\n",
    "    peak = normalize_image(T1, 't1')\n",
    "    T1=T1/peak\n",
    "    peak = normalize_image(FLAIR, 'flair')\n",
    "    FLAIR=FLAIR/peak\n",
    "    return T1,FLAIR\n",
    "\n",
    "def crop_center(img,cropx,cropy,cropz):\n",
    "    x,y,z = img.shape\n",
    "    startx = x//2-(cropx//2)\n",
    "    starty = y//2-(cropy//2)\n",
    "    startz = z//2-(cropz//2)\n",
    "    return img[starty:starty+cropy,startx:startx+cropx,startz:startz+cropz]\n",
    "\n",
    "def to969696(T1,FLAIR):\n",
    "    T1=crop_center(T1,96,96,96)\n",
    "    FLAIR=crop_center(FLAIR,96,96,96)\n",
    "    return T1,FLAIR\n",
    "    "
   ]
  },
  {
   "cell_type": "code",
   "execution_count": 9,
   "metadata": {
    "collapsed": true
   },
   "outputs": [],
   "source": [
    "#T1,FLAIR=load_modalities(listaT1[0],listaFLAIR[0],listaMASK[0])"
   ]
  },
  {
   "cell_type": "code",
   "execution_count": 10,
   "metadata": {
    "collapsed": true
   },
   "outputs": [],
   "source": [
    "#T1_cropped,FLAIR_cropped=to969696(T1,FLAIR)"
   ]
  },
  {
   "cell_type": "code",
   "execution_count": 11,
   "metadata": {
    "collapsed": true
   },
   "outputs": [],
   "source": [
    "#x_in=np.concatenate((np.expand_dims(T1_cropped,axis=3),np.expand_dims(FLAIR_cropped,axis=3)), axis=3)\n",
    "#x_in=np.expand_dims(x_in,axis=0)"
   ]
  },
  {
   "cell_type": "code",
   "execution_count": 12,
   "metadata": {
    "collapsed": true
   },
   "outputs": [],
   "source": [
    "from keras import backend as K\n",
    "\n",
    "input1 = model.input               # input placeholder\n",
    "\n",
    "output1 = model.get_layer('bottleneck').output# all layer outputs\n",
    "\n",
    "fun = K.function([input1, K.learning_phase()],[output1])# evaluation function\n",
    "\n"
   ]
  },
  {
   "cell_type": "code",
   "execution_count": 13,
   "metadata": {
    "collapsed": true
   },
   "outputs": [],
   "source": [
    "#bottleneck_out = fun([x_in, 1.])\n",
    "#model.predict(x_in)"
   ]
  },
  {
   "cell_type": "code",
   "execution_count": 14,
   "metadata": {
    "collapsed": true
   },
   "outputs": [],
   "source": [
    "#bottleneck_out[0].mean(axis=(0,1,2,3)).shape"
   ]
  },
  {
   "cell_type": "code",
   "execution_count": 15,
   "metadata": {
    "collapsed": true
   },
   "outputs": [],
   "source": [
    "#bottleneck_features={}\n",
    "#bottleneck_features[listaT1[0]]=bottleneck_out[0].mean(axis=(0,1,2,3))"
   ]
  },
  {
   "cell_type": "code",
   "execution_count": 16,
   "metadata": {
    "collapsed": true
   },
   "outputs": [],
   "source": [
    "#bottleneck_features"
   ]
  },
  {
   "cell_type": "code",
   "execution_count": 17,
   "metadata": {
    "collapsed": true
   },
   "outputs": [],
   "source": [
    "#####ON ISBI#####"
   ]
  },
  {
   "cell_type": "code",
   "execution_count": 42,
   "metadata": {
    "collapsed": true
   },
   "outputs": [],
   "source": [
    "#bottleneck_features=np.empty((1,384))\n",
    "file_names=[]"
   ]
  },
  {
   "cell_type": "code",
   "execution_count": 43,
   "metadata": {
    "collapsed": true
   },
   "outputs": [],
   "source": [
    "for i in range(len(listaT1_isbi)):\n",
    "    T1,FLAIR=load_modalities(listaT1_isbi[i],listaFLAIR_isbi[i])\n",
    "    T1_cropped,FLAIR_cropped=to969696(T1,FLAIR)\n",
    "    x_in=np.concatenate((np.expand_dims(T1_cropped,axis=3),np.expand_dims(FLAIR_cropped,axis=3)), axis=3)\n",
    "    x_in=np.expand_dims(x_in,axis=0)\n",
    "    #bottleneck_features[listaT1_isbi[i]]=bottleneck_out[0].mean(axis=(0,1,2,3))\n",
    "    bottleneck_out = fun([x_in, 1.])\n",
    "    if(i==0):\n",
    "        bottleneck_features=np.expand_dims(bottleneck_out[0].mean(axis=(0,1,2,3)),axis=0)\n",
    "    else:\n",
    "        bottleneck_features=np.concatenate((bottleneck_features,np.expand_dims(bottleneck_out[0].mean(axis=(0,1,2,3)),axis=0)),axis=0)\n",
    "    file_names.append(listaT1_isbi[i])\n",
    "    "
   ]
  },
  {
   "cell_type": "code",
   "execution_count": 44,
   "metadata": {
    "collapsed": true
   },
   "outputs": [],
   "source": [
    "#np.array(listaT1_isbi[i]).shape"
   ]
  },
  {
   "cell_type": "code",
   "execution_count": 45,
   "metadata": {
    "collapsed": true
   },
   "outputs": [],
   "source": [
    "#####ON VOLBRAIN#####"
   ]
  },
  {
   "cell_type": "code",
   "execution_count": 46,
   "metadata": {
    "collapsed": true
   },
   "outputs": [],
   "source": [
    "for i in range(len(listaT1)):\n",
    "    #if(i==100):\n",
    "    #    break\n",
    "    T1,FLAIR=load_modalities(listaT1[i],listaFLAIR[i])\n",
    "    T1_cropped,FLAIR_cropped=to969696(T1,FLAIR)\n",
    "    x_in=np.concatenate((np.expand_dims(T1_cropped,axis=3),np.expand_dims(FLAIR_cropped,axis=3)), axis=3)\n",
    "    x_in=np.expand_dims(x_in,axis=0)\n",
    "    bottleneck_out = fun([x_in, 1.])\n",
    "    #bottleneck_features[listaT1[i]]=bottleneck_out[0].mean(axis=(0,1,2,3))\n",
    "    bottleneck_features=np.concatenate((bottleneck_features,np.expand_dims(bottleneck_out[0].mean(axis=(0,1,2,3)),axis=0)),axis=0)\n",
    "    file_names.append(listaT1[i])"
   ]
  },
  {
   "cell_type": "code",
   "execution_count": 23,
   "metadata": {
    "collapsed": true
   },
   "outputs": [],
   "source": [
    "#bottleneck_features=bottleneck_features.reshape((1,-1))"
   ]
  },
  {
   "cell_type": "code",
   "execution_count": 54,
   "metadata": {
    "collapsed": true
   },
   "outputs": [],
   "source": [
    "np.save('bottleneck_features.h5',bottleneck_features)\n",
    "np.save('file_names.h5',file_names)"
   ]
  },
  {
   "cell_type": "code",
   "execution_count": 24,
   "metadata": {
    "collapsed": true
   },
   "outputs": [],
   "source": [
    "#####UMAP######"
   ]
  },
  {
   "cell_type": "code",
   "execution_count": 25,
   "metadata": {},
   "outputs": [
    {
     "data": {
      "text/plain": [
       "(121, 384)"
      ]
     },
     "execution_count": 25,
     "metadata": {},
     "output_type": "execute_result"
    }
   ],
   "source": [
    "bottleneck_features.shape"
   ]
  },
  {
   "cell_type": "code",
   "execution_count": 26,
   "metadata": {},
   "outputs": [
    {
     "data": {
      "text/plain": [
       "121"
      ]
     },
     "execution_count": 26,
     "metadata": {},
     "output_type": "execute_result"
    }
   ],
   "source": [
    "len(file_names)"
   ]
  },
  {
   "cell_type": "code",
   "execution_count": 27,
   "metadata": {
    "collapsed": true
   },
   "outputs": [],
   "source": [
    "#bottleneck_features=bottleneck_features[1:]\n",
    "#np.where(np.abs(bottleneck_features)< 1e-7)\n",
    "#bottleneck_features[0]"
   ]
  },
  {
   "cell_type": "code",
   "execution_count": 39,
   "metadata": {},
   "outputs": [
    {
     "name": "stdout",
     "output_type": "stream",
     "text": [
      "11.093610525131226\n"
     ]
    }
   ],
   "source": [
    "\n",
    "import time,umap\n",
    "#import numpy as np\n",
    "\n",
    "start = time.time()\n",
    "#reducer = umap.UMAP(n_neighbors=2000,min_dist=1).fit(alldata)\n",
    "reducer = umap.UMAP().fit(bottleneck_features)\n",
    "#reducer = umap.UMAP().fit(np.ones((100,10)))\n",
    "\n",
    "end = time.time()\n",
    "print(end - start)"
   ]
  },
  {
   "cell_type": "code",
   "execution_count": 40,
   "metadata": {
    "collapsed": true
   },
   "outputs": [],
   "source": [
    "import matplotlib\n"
   ]
  },
  {
   "cell_type": "code",
   "execution_count": 38,
   "metadata": {
    "collapsed": true
   },
   "outputs": [],
   "source": [
    "#labels.embedding_.shape"
   ]
  },
  {
   "cell_type": "code",
   "execution_count": 46,
   "metadata": {},
   "outputs": [
    {
     "data": {
      "image/png": "[encoded data removed]",
      "text/plain": [
       "<matplotlib.figure.Figure at 0x7f5d94d7b2e8>"
      ]
     },
     "metadata": {
      "needs_background": "light"
     },
     "output_type": "display_data"
    }
   ],
   "source": [
    "labels=np.concatenate((  np.ones(len(listaT1_isbi))*0 ,  np.ones(len(listaT1)) ))\n",
    "#labels=np.concatenate((  np.ones(len(listaT1_isbi))*0 ,  np.ones(100) ))\n",
    "vis=np.concatenate((reducer.embedding_,labels.reshape((-1,1))),axis=1)\n",
    "red_vis=vis\n",
    "tick = ['Labeled','pseudo-Labeled','Unlabeled']\n",
    "colors = ['green','blue','red']\n",
    "\n",
    "plt.scatter(   red_vis [:,0], red_vis [:,1], s=0.01,c=red_vis [:,2].astype(int), cmap=matplotlib.colors.ListedColormap(colors))\n",
    "#plt.colorbar()\n",
    "\n",
    "\n",
    "cb = plt.colorbar()\n",
    "loc = np.arange(0,max(red_vis [:,2].astype(int)),max(red_vis [:,2].astype(int))/float(len(tick)))\n",
    "cb.set_ticks(loc)\n",
    "cb.set_ticklabels(tick)\n",
    "#plt.savefig('plot_100firstof volbrain.eps', format='eps')\n",
    "plt.savefig('plot_volbrain.eps', format='eps')"
   ]
  },
  {
   "cell_type": "code",
   "execution_count": 2,
   "metadata": {
    "collapsed": true
   },
   "outputs": [],
   "source": [
    "bottleneck_features=np.load('bottleneck_features.h5.npy')\n",
    "file_names=np.load('file_names.h5.npy')"
   ]
  },
  {
   "cell_type": "code",
   "execution_count": 133,
   "metadata": {},
   "outputs": [],
   "source": [
    "#file_names[:21]"
   ]
  },
  {
   "cell_type": "code",
   "execution_count": 3,
   "metadata": {
    "collapsed": true
   },
   "outputs": [],
   "source": [
    "Q = bottleneck_features[:21].T\n",
    "X = bottleneck_features[21:].T\n"
   ]
  },
  {
   "cell_type": "code",
   "execution_count": 77,
   "metadata": {},
   "outputs": [
    {
     "name": "stdout",
     "output_type": "stream",
     "text": [
      "1.1200342178344727\n"
     ]
    },
    {
     "name": "stderr",
     "output_type": "stream",
     "text": [
      "/data1/rkamraoui/DeepvolBrain/Segmentation/DeepLesionBrain/SSL/diffussion.py:16: RuntimeWarning: divide by zero encountered in true_divide\n",
      "  D = np.array(1./ np.sqrt(W.sum(axis = 1)))\n"
     ]
    }
   ],
   "source": [
    "\n",
    "K = 100 # approx 50 mutual nns\n",
    "QUERYKNN = 21#10\n",
    "R = 2000\n",
    "alpha = 0.9\n",
    "from diffussion import *\n",
    "import time\n",
    "start = time.time()\n",
    "\n",
    "sim  = np.dot(X.T, Q)\n",
    "#\"\"\"\"\n",
    "qsim = sim_kernel(sim).T\n",
    "\n",
    "sortidxs = np.argsort(-qsim, axis = 1)\n",
    "for i in range(len(qsim)):\n",
    "    qsim[i,sortidxs[i,QUERYKNN:]] = 0\n",
    "#\"\"\"\n",
    "qsim = sim_kernel(qsim)\n",
    "A = np.dot(X.T, X)\n",
    "W = sim_kernel(A).T\n",
    "W = topK_W(W, K)\n",
    "Wn = normalize_connection_graph(W)\n",
    "\n",
    "#plain_ranks = np.argsort(-sim, axis=0)\n",
    "cg_ranks =  cg_diffusion(qsim, Wn, alpha)\n",
    "#cg_trunk_ranks =  dfs_trunk(sim, A, alpha = alpha, QUERYKNN = QUERYKNN )\n",
    "#fast_spectral_ranks = fsr_rankR(qsim, Wn, alpha, R)\n",
    "\n",
    "end = time.time()\n",
    "print(end - start)"
   ]
  },
  {
   "cell_type": "code",
   "execution_count": 80,
   "metadata": {},
   "outputs": [
    {
     "data": {
      "text/plain": [
       "57"
      ]
     },
     "execution_count": 80,
     "metadata": {},
     "output_type": "execute_result"
    }
   ],
   "source": [
    "\"\"\"\n",
    "cg_ranks[:,15].argmin()\n",
    "cg_ranks[:,15].argmax()\n",
    "order=fast_spectral_ranks.mean(axis=1)\n",
    "reducer.embedding_[2900+21]\n",
    "reducer.embedding_[15]\n",
    "order.argmin()\n",
    "order[2896]\n",
    "order.argmax()\n",
    "\"\"\""
   ]
  },
  {
   "cell_type": "code",
   "execution_count": 104,
   "metadata": {
    "collapsed": true
   },
   "outputs": [],
   "source": [
    "volbrain_useful=[]"
   ]
  },
  {
   "cell_type": "code",
   "execution_count": 119,
   "metadata": {},
   "outputs": [],
   "source": [
    "def give_n_closest(ranks,n_indxs=100):\n",
    "    indxs=[]\n",
    "    querries_num=ranks.shape[1]\n",
    "    #datapoints_num=ranks.shape[0]\n",
    "    for j in range(n_indxs//querries_num +1 ):\n",
    "        for i in range(querries_num):\n",
    "            indx=ranks[:,i].argmin()\n",
    "            #indx=ranks[:,i].argmax()\n",
    "            indxs.append(indx)\n",
    "            ranks[indx,:]=9999\n",
    "            #ranks[indx,:]=0\n",
    "    return indxs\n",
    "    \n",
    "    "
   ]
  },
  {
   "cell_type": "code",
   "execution_count": 120,
   "metadata": {},
   "outputs": [],
   "source": [
    "indxs= give_n_closest(cg_ranks)"
   ]
  },
  {
   "cell_type": "code",
   "execution_count": 110,
   "metadata": {},
   "outputs": [],
   "source": [
    "volbrain_useful.append(file_names[np.array(indxs)+21].tolist)"
   ]
  },
  {
   "cell_type": "code",
   "execution_count": 111,
   "metadata": {},
   "outputs": [
    {
     "data": {
      "text/plain": [
       "2"
      ]
     },
     "execution_count": 111,
     "metadata": {},
     "output_type": "execute_result"
    }
   ],
   "source": [
    "len(volbrain_useful)"
   ]
  },
  {
   "cell_type": "code",
   "execution_count": 109,
   "metadata": {},
   "outputs": [
    {
     "data": {
      "text/plain": [
       "()"
      ]
     },
     "execution_count": 109,
     "metadata": {},
     "output_type": "execute_result"
    }
   ],
   "source": [
    "file_names[np.array(indxs)+21].shape"
   ]
  },
  {
   "cell_type": "code",
   "execution_count": 132,
   "metadata": {},
   "outputs": [
    {
     "data": {
      "image/png": "[encoded data removed]",
      "text/plain": [
       "<matplotlib.figure.Figure at 0x7f5d975fc8d0>"
      ]
     },
     "metadata": {
      "needs_background": "light"
     },
     "output_type": "display_data"
    }
   ],
   "source": [
    "labels=np.concatenate((  np.ones(len(listaT1_isbi))*0 ,  np.ones(len(listaT1)) ))\n",
    "\n",
    "labels[np.array(indxs)+21]= 3\n",
    "\n",
    "vis=np.concatenate((reducer.embedding_,labels.reshape((-1,1))),axis=1)\n",
    "red_vis=vis\n",
    "tick = ['isbi','volbrain','selected']\n",
    "colors = ['green','red','blue']\n",
    "\n",
    "plt.scatter(   red_vis [:,0], red_vis [:,1], s=0.01,c=red_vis [:,2].astype(int), cmap=matplotlib.colors.ListedColormap(colors))\n",
    "#plt.colorbar()\n",
    "\n",
    "\n",
    "cb = plt.colorbar()\n",
    "loc = np.arange(0,max(red_vis [:,2].astype(int)),max(red_vis [:,2].astype(int))/float(len(tick)))\n",
    "cb.set_ticks(loc)\n",
    "cb.set_ticklabels(tick)\n",
    "#plt.savefig('plot_100firstof volbrain.eps', format='eps')\n",
    "plt.savefig('plot_volbrain_selected.eps', format='eps')"
   ]
  },
  {
   "cell_type": "code",
   "execution_count": 126,
   "metadata": {
    "collapsed": true
   },
   "outputs": [],
   "source": [
    "def distance_measure(x1,x2):\n",
    "    return np.sum((x1-x2)**2)\n",
    "    "
   ]
  },
  {
   "cell_type": "code",
   "execution_count": 122,
   "metadata": {
    "collapsed": true
   },
   "outputs": [],
   "source": [
    "res_dis=np.zeros((len(file_names)-21,21))"
   ]
  },
  {
   "cell_type": "code",
   "execution_count": 128,
   "metadata": {},
   "outputs": [
    {
     "name": "stdout",
     "output_type": "stream",
     "text": [
      "0\n",
      "1\n",
      "2\n",
      "3\n",
      "4\n",
      "5\n",
      "6\n",
      "7\n",
      "8\n",
      "9\n",
      "10\n",
      "11\n",
      "12\n",
      "13\n",
      "14\n",
      "15\n",
      "16\n",
      "17\n",
      "18\n",
      "19\n",
      "20\n"
     ]
    }
   ],
   "source": [
    "for i in range(21):\n",
    "    print(i)\n",
    "    for j in range(len(file_names)-21):\n",
    "        res_dis[j,i]=distance_measure(X[:,j],Q[:,i])"
   ]
  },
  {
   "cell_type": "code",
   "execution_count": 147,
   "metadata": {},
   "outputs": [
    {
     "ename": "TypeError",
     "evalue": "'tuple' object is not callable",
     "output_type": "error",
     "traceback": [
      "\u001b[0;31m---------------------------------------------------------------------------\u001b[0m",
      "\u001b[0;31mTypeError\u001b[0m                                 Traceback (most recent call last)",
      "\u001b[0;32m<ipython-input-147-cf7c8739c497>\u001b[0m in \u001b[0;36m<module>\u001b[0;34m\u001b[0m\n\u001b[0;32m----> 1\u001b[0;31m \u001b[0mres_dis\u001b[0m\u001b[0;34m.\u001b[0m\u001b[0mshape\u001b[0m\u001b[0;34m(\u001b[0m\u001b[0;34m)\u001b[0m\u001b[0;34m\u001b[0m\u001b[0m\n\u001b[0m",
      "\u001b[0;31mTypeError\u001b[0m: 'tuple' object is not callable"
     ]
    }
   ],
   "source": [
    "res_dis.shape()"
   ]
  },
  {
   "cell_type": "code",
   "execution_count": 131,
   "metadata": {},
   "outputs": [],
   "source": [
    "indxs=give_n_closest(res_dis)"
   ]
  },
  {
   "cell_type": "code",
   "execution_count": 136,
   "metadata": {},
   "outputs": [],
   "source": [
    "a=[1,2,3]\n",
    "b=[1,2,3,4,5,6]\n",
    "c= [x for x in b if x not in a]"
   ]
  },
  {
   "cell_type": "code",
   "execution_count": 142,
   "metadata": {},
   "outputs": [
    {
     "data": {
      "text/plain": [
       "[2, 3, 4]"
      ]
     },
     "execution_count": 142,
     "metadata": {},
     "output_type": "execute_result"
    }
   ],
   "source": [
    "[b[i] for i in a]"
   ]
  },
  {
   "cell_type": "code",
   "execution_count": 145,
   "metadata": {},
   "outputs": [
    {
     "data": {
      "text/plain": [
       "3"
      ]
     },
     "execution_count": 145,
     "metadata": {},
     "output_type": "execute_result"
    }
   ],
   "source": [
    "len(np.array(b)[a])"
   ]
  },
  {
   "cell_type": "code",
   "execution_count": 162,
   "metadata": {},
   "outputs": [],
   "source": [
    "a=np.random.normal(0.3,5,(5,5))"
   ]
  },
  {
   "cell_type": "code",
   "execution_count": 163,
   "metadata": {},
   "outputs": [
    {
     "data": {
      "text/plain": [
       "(3, 1)"
      ]
     },
     "execution_count": 163,
     "metadata": {},
     "output_type": "execute_result"
    }
   ],
   "source": [
    "np.unravel_index(np.argmin(a, axis=None), a.shape)"
   ]
  },
  {
   "cell_type": "code",
   "execution_count": 161,
   "metadata": {},
   "outputs": [
    {
     "data": {
      "text/plain": [
       "array([[-0.87627272,  3.88418747,  5.84506465,  6.63775387, -0.25148922],\n",
       "       [-0.91750974, -3.97599008, -4.36702408,  0.07540367, -0.93675444],\n",
       "       [ 3.20354219, -3.7496331 ,  1.45370029,  3.46278937,  3.95732728],\n",
       "       [-1.84498267,  5.09058817, -1.3889049 , -4.1051377 , -3.48948357],\n",
       "       [-3.85600186,  8.55356074,  3.07880517,  1.89617356, -6.84425297]])"
      ]
     },
     "execution_count": 161,
     "metadata": {},
     "output_type": "execute_result"
    }
   ],
   "source": [
    "a"
   ]
  }
 ],
 "metadata": {
  "kernelspec": {
   "display_name": "Python 3",
   "language": "python",
   "name": "python3"
  },
  "language_info": {
   "codemirror_mode": {
    "name": "ipython",
    "version": 3
   },
   "file_extension": ".py",
   "mimetype": "text/x-python",
   "name": "python",
   "nbconvert_exporter": "python",
   "pygments_lexer": "ipython3",
   "version": "3.5.2"
  }
 },
 "nbformat": 4,
 "nbformat_minor": 2
}
